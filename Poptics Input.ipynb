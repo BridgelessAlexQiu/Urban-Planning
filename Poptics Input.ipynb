{
 "cells": [
  {
   "cell_type": "code",
   "execution_count": 35,
   "metadata": {},
   "outputs": [],
   "source": [
    "from collections import defaultdict\n",
    "import numpy as np"
   ]
  },
  {
   "cell_type": "code",
   "execution_count": 36,
   "metadata": {},
   "outputs": [],
   "source": [
    "# file to read\n",
    "nyc = open(\"nyc.txt\", encoding='ISO-8859-1')\n",
    "\n",
    "'''\n",
    "the dictonary user_checkin_history contains inputs of POPTICS\n",
    "Data format:\n",
    "{\n",
    "    user_1 : [(venue_category_1, lantitude_1, longtitude_1), (venue_category_2, lantitude_2, longtitude_2) ...],\n",
    "    user_2 : [(venue_category_i, lantitude_i, longtitude_i), (venue_category_i+1, lantutide_i+1, longtitude_i+1) ...],\n",
    "    user_3 : [...],\n",
    "    ...    :  ... ,\n",
    "    user_n : [...]\n",
    "}\n",
    "'''\n",
    "user_checkin_history = defaultdict(list)\n",
    "\n",
    "for line in nyc:\n",
    "    # index 3 : venue category, 4 : Latitude, 5 : Longitude\n",
    "    lst = line.split('\\t')\n",
    "    \n",
    "    # lantitude and longtitude\n",
    "    lantitude = float(lst[4])\n",
    "    longtitude = float(lst[5])\n",
    "    \n",
    "    # venue category, combine categories into a single category\n",
    "    category = lst[3]\n",
    "    if 'Restaurant' in category:\n",
    "        venue_category = 'Restaurant'\n",
    "    elif 'Joint' in category:\n",
    "        venue_category = 'Food Joint'\n",
    "    elif 'Museum' in category:\n",
    "        venue_category = 'Museum'\n",
    "    else:\n",
    "        venue_category = category\n",
    "    \n",
    "    # construct the checkin\n",
    "    single_checkin = (venue_category, lantitude, longtitude)\n",
    "    \n",
    "    # add this checking location, lst[0] is the user's id\n",
    "    user_checkin_history[lst[0]].append(single_checkin)"
   ]
  },
  {
   "cell_type": "code",
   "execution_count": 37,
   "metadata": {},
   "outputs": [],
   "source": [
    "# format : {venue_category_1 : count 1, venue_category_2 : count 2, ...}\n",
    "venue_count = defaultdict(lambda : 0)\n",
    "\n",
    "for user, checkins in user_checkin_history.items():\n",
    "    for checkin in checkins:\n",
    "        venue_count[checkin[0]] += 1"
   ]
  },
  {
   "cell_type": "code",
   "execution_count": 38,
   "metadata": {},
   "outputs": [],
   "source": [
    "# delete all checkins whose venue categories have not been visited over 1200 times\n",
    "for user, checkins in user_checkin_history.items():\n",
    "    new_checkins = []\n",
    "    for checkin in checkins:\n",
    "        if venue_count[checkin[0]] >= 1200:\n",
    "            new_checkins.append(checkin)\n",
    "    user_checkin_history[user] = new_checkins"
   ]
  },
  {
   "cell_type": "code",
   "execution_count": 39,
   "metadata": {},
   "outputs": [],
   "source": [
    "# remove users who visited less than 100 places\n",
    "remove = []\n",
    "for user, checkins in user_checkin_history.items():\n",
    "    if len(checkins) < 100:\n",
    "        remove.append(user)\n",
    "for r in remove:\n",
    "    del user_checkin_history[r]"
   ]
  },
  {
   "cell_type": "code",
   "execution_count": 44,
   "metadata": {},
   "outputs": [],
   "source": [
    "def poptics(checkin_location, yita):\n",
    "    # something...\n",
    "    pass\n",
    "\n",
    "# Example : run POPIICS on user 10, note that the user id '10' is a string\n",
    "\n",
    "poptics(user_checkin_history['10'], 0.5)"
   ]
  }
 ],
 "metadata": {
  "kernelspec": {
   "display_name": "Python 3",
   "language": "python",
   "name": "python3"
  },
  "language_info": {
   "codemirror_mode": {
    "name": "ipython",
    "version": 3
   },
   "file_extension": ".py",
   "mimetype": "text/x-python",
   "name": "python",
   "nbconvert_exporter": "python",
   "pygments_lexer": "ipython3",
   "version": "3.7.0"
  }
 },
 "nbformat": 4,
 "nbformat_minor": 2
}
