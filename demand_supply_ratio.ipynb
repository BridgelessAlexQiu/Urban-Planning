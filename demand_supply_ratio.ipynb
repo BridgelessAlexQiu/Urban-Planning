{
 "cells": [
  {
   "cell_type": "code",
   "execution_count": 19,
   "metadata": {},
   "outputs": [],
   "source": [
    "import numpy as np\n",
    "# def gaussian(x, mu, sig):\n",
    "#     return 1/(np.sqrt(2*np.pi*np.power(sig,2)))*np.exp(-np.power((x-mu)/sig, 2)/2)\n",
    "def gaussian_2d(x, y, mu_x, mu_y, sig):\n",
    "    exp_value = -(np.power(x-mu_x, 2)+np.power(y-mu_y, 2))/(2*np.power(sig, 2))\n",
    "    return 1/(np.sqrt(2*np.pi*np.power(sig,2)))*np.exp(exp_value)\n",
    "\n",
    "#total demand\n",
    "\n",
    "\n",
    "\n",
    "#total supply\n",
    "\n",
    "    \n",
    "\n",
    "\n",
    "\n"
   ]
  },
  {
   "cell_type": "code",
   "execution_count": null,
   "metadata": {},
   "outputs": [],
   "source": []
  }
 ],
 "metadata": {
  "kernelspec": {
   "display_name": "Python 2",
   "language": "python",
   "name": "python2"
  },
  "language_info": {
   "codemirror_mode": {
    "name": "ipython",
    "version": 2
   },
   "file_extension": ".py",
   "mimetype": "text/x-python",
   "name": "python",
   "nbconvert_exporter": "python",
   "pygments_lexer": "ipython2",
   "version": "2.7.15"
  }
 },
 "nbformat": 4,
 "nbformat_minor": 2
}
