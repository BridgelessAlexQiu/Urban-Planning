{
 "cells": [
  {
   "cell_type": "markdown",
   "metadata": {},
   "source": [
    "<center><h1>TLDA</h1></center>"
   ]
  },
  {
   "cell_type": "markdown",
   "metadata": {},
   "source": [
    "<img src=\"tlda.png\">"
   ]
  },
  {
   "cell_type": "markdown",
   "metadata": {},
   "source": [
    "1. `theta_u` : pattern distribution of user *u*.\n",
    "2. `phi_t` : pattern distribution of time *t*.\n",
    "3. `psi_z` : venue category distribution of pattern *z*\n",
    "4. sfs\n",
    "\n",
    "Analogous to the traditional LDA : `document` - `user/time`, `topic` - `cultural pattern`, and `word` - `venue`."
   ]
  },
  {
   "cell_type": "markdown",
   "metadata": {},
   "source": [
    "<h2>Data Extraction</h2>"
   ]
  },
  {
   "cell_type": "markdown",
   "metadata": {},
   "source": [
    "1. `checkin_data` : {*user1* : [(*venue_category_1*, *time_1*), (*venue_category_2*, *time_2*),..., (*venue_category_n*, *time_n*)],*user2* : [(*venue_category_1*, *time_1*), (*venue_category_2*, *time_2*) ...], *user3*...}.\n",
    "2. `venues` : list of venue ids.\n",
    "3. `venue_categories` : list of venue categories.\n"
   ]
  },
  {
   "cell_type": "code",
   "execution_count": 57,
   "metadata": {},
   "outputs": [],
   "source": [
    "from collections import defaultdict\n",
    "import numpy as np"
   ]
  },
  {
   "cell_type": "code",
   "execution_count": 360,
   "metadata": {},
   "outputs": [],
   "source": [
    "# Month(str): Jan Feb [Mar not included] Apr May Jun Jul Aug Sep Oct Nov Dec\n",
    "# day: Mon, Tue, Wed, Thu, Fri, Sat, Sun\n",
    "# Hour(int): 0, 1, 2, 3, 4, 5, 6, 7, 8, 9, 10, 11, 12, 13, 14, 15, 16, 17, 18, 19, 20, 21, 22, 23\n",
    "\n",
    "\n",
    "# data format: (user1 (venue_category_1, time_1), (venue_category_2, time_2), (venue_category_3, time_3))\n",
    "# time format: month-day-hour; Example: (Oct-Wed-13)\n",
    "checkin_data = defaultdict(list)\n",
    "\n",
    "# store all venues\n",
    "venues = set()\n",
    "\n",
    "nyc = open(\"nyc.txt\")\n",
    "\n",
    "for checkin in nyc:\n",
    "    checkin_time = (checkin.split('\\t')[-1]).split(' ')\n",
    "    \n",
    "    # venues\n",
    "    venues.add(checkin.split('\\t')[1])\n",
    "    \n",
    "    # time in the correct format\n",
    "    time = checkin_time[1] + '-' + checkin_time[0] + '-' + checkin_time[3].split(':')[0]\n",
    "    \n",
    "    # corresponding venue category\n",
    "    venue_category = checkin.split('\\t')[3]\n",
    "    \n",
    "    # one checkin tuple of this user\n",
    "    single_checkin = (venue_category, time)\n",
    "\n",
    "    #user id\n",
    "    user = checkin.split('\\t')[0]\n",
    "    \n",
    "    checkin_data[user].append(single_checkin)"
   ]
  },
  {
   "cell_type": "code",
   "execution_count": 59,
   "metadata": {},
   "outputs": [
    {
     "name": "stdout",
     "output_type": "stream",
     "text": [
      "Number of users: 1083\n",
      "Number of venue categories: 251\n",
      "Nnumber of venues: 38333\n",
      "Number of checkins: 227428\n",
      "Maxmimum number of check-ins per user: 2697\n",
      "Minimum number of check-ins per user: 100\n",
      "Number of distinct check-ins: 81320\n"
     ]
    }
   ],
   "source": [
    "print(\"Number of users: {}\".format(len(checkin_data)))\n",
    "venue_categories = set()\n",
    "\n",
    "for user, checkins in checkin_data.items():\n",
    "    for checkin in checkins:\n",
    "        venue_categories.add(checkin[0])\n",
    "print(\"Number of venue categories: {}\".format(len(venue_categories)))\n",
    "\n",
    "total_checkins = 0\n",
    "for user, checkins in checkin_data.items():\n",
    "    total_checkins += len(checkins)\n",
    "\n",
    "print(\"Nnumber of venues: {}\".format(len(venues)))\n",
    "    \n",
    "print(\"Number of checkins: {}\".format(total_checkins))\n",
    "\n",
    "max = 0\n",
    "min = 5000\n",
    "for user, checkins in checkin_data.items():\n",
    "    if len(checkins) <= min:\n",
    "        min = len(checkins)\n",
    "    if len(checkins) >= max:\n",
    "        max = len(checkins)\n",
    "print(\"Maxmimum number of check-ins per user: {}\".format(max))\n",
    "print(\"Minimum number of check-ins per user: {}\".format(min))\n",
    "\n",
    "distinct_checkins = set()\n",
    "for checkins in checkin_data.values():\n",
    "    for checkin in checkins:\n",
    "        distinct_checkins.add(checkin)\n",
    "print(\"Number of distinct check-ins: {}\".format(len(distinct_checkins)))"
   ]
  },
  {
   "cell_type": "markdown",
   "metadata": {},
   "source": [
    "<h2> Basic info </h2>"
   ]
  },
  {
   "cell_type": "markdown",
   "metadata": {},
   "source": [
    "1. `1083` users, with id from `1` to `1083`. \n",
    "2. `38333` venues.\n",
    "3. `251` venue categories.\n",
    "4. `227428` checkins\n",
    "5. Maxmimum number of check-ins per user: `2697`\n",
    "6. Minimum number of check-ins per user: `100`\n",
    "7. Number of distinct check-ins: `81320`\n"
   ]
  },
  {
   "cell_type": "markdown",
   "metadata": {},
   "source": [
    "<h2>What the author did</h2>"
   ]
  },
  {
   "cell_type": "markdown",
   "metadata": {},
   "source": [
    "1. first filter cultural fans based on users with at least 20 check-ins. \n",
    "2. Besides a venue category label, also represent a temporal label for each cultural check-in with three levels of identifiers, including month of year (Oct), day of week (Fri), and hour of day (13). Following this form of expression, a user’s check-in history can be represented as `(User3, ((Concert hall, JulFri20), (Golf, OctSun10), (Yoga, AprFri18))`, for example.\n",
    "3. Run the TLDA model with the optimum number of patterns *K* given by TCV. We adopt 7 numbers from 3 to 9 as candidates, run the TLDA for 100 iterations each, and get their respective average TCV scores. Select *K* with the highest score."
   ]
  },
  {
   "cell_type": "markdown",
   "metadata": {},
   "source": [
    "<h2> What we did with respect to points above</h2>"
   ]
  },
  {
   "cell_type": "markdown",
   "metadata": {},
   "source": [
    "1. For our data set, the minimum number of checkins per user is 100 (the maximum is 2697), therefore, there is no need to trim the data.\n",
    "2. We followed the author's approach, however, based on the heatmap, the cultural pattern with respect to day is not signification, therefore, we might change the time format to `(month-hour)` instand of `(month-day-hour)`."
   ]
  },
  {
   "cell_type": "markdown",
   "metadata": {},
   "source": [
    "<h2> My approach </h2>"
   ]
  },
  {
   "cell_type": "markdown",
   "metadata": {},
   "source": [
    "The input to `lda` library has to be a document-term matrix `X` where `X_{ij}` = the number of times term at index `j` appears in document `i`. <br>\n",
    "There are 1083 users, in other words, 1083 \"documents\", and 81320 distinct check-in data, in other words, 81320 \"words\". So we construct a 1083 by 81320 matrix as the input. <br>\n",
    "Because users in the `checkin_data` is not ordered based on their ids, we have to create a user_id - index mapping. Similarily, we also create a checkin-index mapping. <br>\n",
    "Then, after the LDA, we also need to map index back to users and checkins. Therefore, we also need a index-user_id mapping and index-checkin mapping which is exactly the reverse of two data structures above."
   ]
  },
  {
   "cell_type": "markdown",
   "metadata": {},
   "source": [
    "<h2> Potentianl issues </h2>"
   ]
  },
  {
   "cell_type": "markdown",
   "metadata": {},
   "source": [
    "Here we adopt the notion: `user` - `document`, `cultural pattern` - `topic`, `checkin` - `words`. \n",
    "1. The issue concerns me the most this the low frequencies of all words. Within a document, it is less likely (stil possible) to have the same word occurs twice. Within the corpus which consists of 1083 documents, on average, a word appears four times cross these 1083 documents. This is not a very good ratio. "
   ]
  },
  {
   "cell_type": "code",
   "execution_count": 337,
   "metadata": {},
   "outputs": [],
   "source": [
    "import lda\n",
    "import numpy as np\n",
    "from collections import defaultdict"
   ]
  },
  {
   "cell_type": "markdown",
   "metadata": {},
   "source": [
    "<h2> Construct the user_id and checkin mappings </h2>"
   ]
  },
  {
   "cell_type": "code",
   "execution_count": 265,
   "metadata": {},
   "outputs": [],
   "source": [
    "#checkin_data : {user1 : [(venue_category_1, time_1), (venue_category_2, time_2), (venue_category_3, time_3...)], \n",
    "#                user2 : [(venue_category_13, time_13), (...) ...] ...}\n",
    "\n",
    "\n",
    "# user - index (from 0 to 1082) mapping \n",
    "user_index_mapping = dict()\n",
    "\n",
    "#index (from 0 to 1082) - user mapping\n",
    "index_user_mapping = dict()\n",
    "\n",
    "for index, user in enumerate(checkin_data.keys()):\n",
    "    user_index_mapping[user] = index\n",
    "    index_user_mapping[index] = user\n",
    "\n",
    "# checkin - index (from 0 to 81319) mapping\n",
    "checkin_index_mapping = dict()\n",
    "\n",
    "# index (from 0 to 81319) - checkin mapping\n",
    "index_checkin_mapping = dict()\n",
    "\n",
    "index = 0\n",
    "for checkins in checkin_data.values():\n",
    "    for checkin in checkins:\n",
    "        if checkin_index_mapping.get(checkin) == None:\n",
    "            checkin_index_mapping[checkin] = index\n",
    "            index_checkin_mapping[index] = checkin\n",
    "            index += 1"
   ]
  },
  {
   "cell_type": "markdown",
   "metadata": {},
   "source": [
    "<h2> Main user-checkin matrix </h2>"
   ]
  },
  {
   "cell_type": "code",
   "execution_count": 266,
   "metadata": {},
   "outputs": [],
   "source": [
    "# construct and initialize the main matrix with all elements equal to zero\n",
    "main_matrix = [[0] * 81320] * 1083\n",
    "main_matrix = np.array(main_matrix)\n",
    "\n",
    "# fill in the main matrix with data, suppose user1 has checkin data (venue_category_1, time_1), then element of main matrix at \n",
    "# index i = index_user_mapping[user1], j = index_checkin_mapping[(venue_category_1, time_1)] is 1\n",
    "for user, checkins in checkin_data.items():\n",
    "    i = user_index_mapping[user]\n",
    "    for checkin in checkins:\n",
    "        j = checkin_index_mapping[checkin]\n",
    "        main_matrix[i,j] += 1 # it is possible that the same time occurs twice!!!!!!!!!!!!"
   ]
  },
  {
   "cell_type": "code",
   "execution_count": 339,
   "metadata": {},
   "outputs": [
    {
     "name": "stdout",
     "output_type": "stream",
     "text": [
      "431\n",
      "431\n",
      "--------------------------------\n",
      "True\n"
     ]
    }
   ],
   "source": [
    "# check if code is correct\n",
    "index = 123\n",
    "print(np.sum(main_matrix[index]))\n",
    "\n",
    "user = index_user_mapping[index]\n",
    "print(len(checkin_data[user]))\n",
    "\n",
    "print(\"--------------------------------\")\n",
    "\n",
    "l1 = list()\n",
    "l2 = set() # because there are duplicates\n",
    "x = 0\n",
    "for i in main_matrix[index]:\n",
    "    if i != 0:\n",
    "        l1.append(x)\n",
    "    x += 1\n",
    "\n",
    "for c in checkin_data[user]:\n",
    "    l2.add(checkin_index_mapping[c])\n",
    "    \n",
    "l2 = list(l2)\n",
    "print(sorted(l1) == sorted(l2))"
   ]
  },
  {
   "cell_type": "markdown",
   "metadata": {},
   "source": [
    "<h2> venue_category, month, day and hour mappings </h2>"
   ]
  },
  {
   "cell_type": "code",
   "execution_count": 361,
   "metadata": {},
   "outputs": [],
   "source": [
    "venue_categories = set()\n",
    "for user, checkins in checkin_data.items():\n",
    "    for checkin in checkins:\n",
    "        venue_categories.add(checkin[0])\n",
    "venue_index_mapping = dict()\n",
    "index_venue_mapping = dict()\n",
    "\n",
    "for i, venue in enumerate(venue_categories):\n",
    "    venue_index_mapping[venue] = i\n",
    "    index_venue_mapping[i] = venue"
   ]
  },
  {
   "cell_type": "code",
   "execution_count": 362,
   "metadata": {},
   "outputs": [],
   "source": [
    "# THERE IS NO MARCH IN THE DATA SET!!!!!!!!!!!!!!!!!!!!!!!!!!!!!!!!!!!!!!!!!!!\n",
    "month = ['Jan', 'Feb', 'Mar', 'Apr', 'May', 'Jun', 'Jul', 'Aug', 'Sep', 'Oct', 'Nov', 'Dec']\n",
    "month_index_mapping = dict()\n",
    "index_month_mapping = dict()\n",
    "\n",
    "for i, m in enumerate(month):\n",
    "    month_index_mapping[m] = i\n",
    "    index_month_mapping[i] = m"
   ]
  },
  {
   "cell_type": "code",
   "execution_count": 363,
   "metadata": {},
   "outputs": [],
   "source": [
    "day = ['Mon', 'Tue', 'Wed', 'Thu', 'Fri', 'Sat', 'Sun']\n",
    "day_index_mapping = dict()\n",
    "index_day_mapping = dict()\n",
    "\n",
    "for i, d in enumerate(day):\n",
    "    day_index_mapping[d] = i\n",
    "    index_day_mapping[i] = d"
   ]
  },
  {
   "cell_type": "code",
   "execution_count": 365,
   "metadata": {},
   "outputs": [],
   "source": [
    "hour = ['00', '01', '02', '03', '04', '05', '06', '07', '08', '09', '10', '11', '12', '13', '14', '15', '16', '17', '18', '19', \n",
    "        '20', '21', '22', '23']\n",
    "hour_index_mapping = dict()\n",
    "index_hour_mapping = dict()\n",
    "\n",
    "for i, h in enumerate(hour):\n",
    "    hour_index_mapping[h] = i\n",
    "    index_hour_mapping[i] = h"
   ]
  },
  {
   "cell_type": "markdown",
   "metadata": {},
   "source": [
    "<h2> Pass the matrix to the algorithm </h2>"
   ]
  },
  {
   "cell_type": "code",
   "execution_count": 330,
   "metadata": {
    "scrolled": true
   },
   "outputs": [
    {
     "name": "stderr",
     "output_type": "stream",
     "text": [
      "INFO:lda:n_documents: 1083\n",
      "INFO:lda:vocab_size: 81320\n",
      "INFO:lda:n_words: 227428\n",
      "INFO:lda:n_topics: 20\n",
      "INFO:lda:n_iter: 2000\n",
      "INFO:lda:<0> log likelihood: -3580934\n",
      "INFO:lda:<10> log likelihood: -2883598\n",
      "INFO:lda:<20> log likelihood: -2821941\n",
      "INFO:lda:<30> log likelihood: -2779449\n",
      "INFO:lda:<40> log likelihood: -2750321\n",
      "INFO:lda:<50> log likelihood: -2730357\n",
      "INFO:lda:<60> log likelihood: -2715271\n",
      "INFO:lda:<70> log likelihood: -2704131\n",
      "INFO:lda:<80> log likelihood: -2696292\n",
      "INFO:lda:<90> log likelihood: -2689748\n",
      "INFO:lda:<100> log likelihood: -2683267\n",
      "INFO:lda:<110> log likelihood: -2679024\n",
      "INFO:lda:<120> log likelihood: -2674649\n",
      "INFO:lda:<130> log likelihood: -2672772\n",
      "INFO:lda:<140> log likelihood: -2669673\n",
      "INFO:lda:<150> log likelihood: -2667386\n",
      "INFO:lda:<160> log likelihood: -2664986\n",
      "INFO:lda:<170> log likelihood: -2663795\n",
      "INFO:lda:<180> log likelihood: -2660811\n",
      "INFO:lda:<190> log likelihood: -2659788\n",
      "INFO:lda:<200> log likelihood: -2658512\n",
      "INFO:lda:<210> log likelihood: -2658159\n",
      "INFO:lda:<220> log likelihood: -2656652\n",
      "INFO:lda:<230> log likelihood: -2655727\n",
      "INFO:lda:<240> log likelihood: -2655421\n",
      "INFO:lda:<250> log likelihood: -2653549\n",
      "INFO:lda:<260> log likelihood: -2652744\n",
      "INFO:lda:<270> log likelihood: -2652070\n",
      "INFO:lda:<280> log likelihood: -2651935\n",
      "INFO:lda:<290> log likelihood: -2652313\n",
      "INFO:lda:<300> log likelihood: -2650769\n",
      "INFO:lda:<310> log likelihood: -2650877\n",
      "INFO:lda:<320> log likelihood: -2650459\n",
      "INFO:lda:<330> log likelihood: -2649897\n",
      "INFO:lda:<340> log likelihood: -2649229\n",
      "INFO:lda:<350> log likelihood: -2649826\n",
      "INFO:lda:<360> log likelihood: -2649921\n",
      "INFO:lda:<370> log likelihood: -2649854\n",
      "INFO:lda:<380> log likelihood: -2648135\n",
      "INFO:lda:<390> log likelihood: -2648307\n",
      "INFO:lda:<400> log likelihood: -2648823\n",
      "INFO:lda:<410> log likelihood: -2648440\n",
      "INFO:lda:<420> log likelihood: -2647455\n",
      "INFO:lda:<430> log likelihood: -2647767\n",
      "INFO:lda:<440> log likelihood: -2647319\n",
      "INFO:lda:<450> log likelihood: -2646530\n",
      "INFO:lda:<460> log likelihood: -2647225\n",
      "INFO:lda:<470> log likelihood: -2647923\n",
      "INFO:lda:<480> log likelihood: -2646838\n",
      "INFO:lda:<490> log likelihood: -2647706\n",
      "INFO:lda:<500> log likelihood: -2647461\n",
      "INFO:lda:<510> log likelihood: -2647261\n",
      "INFO:lda:<520> log likelihood: -2646930\n",
      "INFO:lda:<530> log likelihood: -2647590\n",
      "INFO:lda:<540> log likelihood: -2647423\n",
      "INFO:lda:<550> log likelihood: -2645861\n",
      "INFO:lda:<560> log likelihood: -2645804\n",
      "INFO:lda:<570> log likelihood: -2645527\n",
      "INFO:lda:<580> log likelihood: -2645957\n",
      "INFO:lda:<590> log likelihood: -2646299\n",
      "INFO:lda:<600> log likelihood: -2644942\n",
      "INFO:lda:<610> log likelihood: -2645789\n",
      "INFO:lda:<620> log likelihood: -2645297\n",
      "INFO:lda:<630> log likelihood: -2644963\n",
      "INFO:lda:<640> log likelihood: -2644724\n",
      "INFO:lda:<650> log likelihood: -2645176\n",
      "INFO:lda:<660> log likelihood: -2645568\n",
      "INFO:lda:<670> log likelihood: -2645066\n",
      "INFO:lda:<680> log likelihood: -2644513\n",
      "INFO:lda:<690> log likelihood: -2643987\n",
      "INFO:lda:<700> log likelihood: -2644211\n",
      "INFO:lda:<710> log likelihood: -2644847\n",
      "INFO:lda:<720> log likelihood: -2644747\n",
      "INFO:lda:<730> log likelihood: -2644556\n",
      "INFO:lda:<740> log likelihood: -2644471\n",
      "INFO:lda:<750> log likelihood: -2644859\n",
      "INFO:lda:<760> log likelihood: -2645111\n",
      "INFO:lda:<770> log likelihood: -2643599\n",
      "INFO:lda:<780> log likelihood: -2644952\n",
      "INFO:lda:<790> log likelihood: -2644088\n",
      "INFO:lda:<800> log likelihood: -2644763\n",
      "INFO:lda:<810> log likelihood: -2644106\n",
      "INFO:lda:<820> log likelihood: -2644223\n",
      "INFO:lda:<830> log likelihood: -2644889\n",
      "INFO:lda:<840> log likelihood: -2643817\n",
      "INFO:lda:<850> log likelihood: -2643843\n",
      "INFO:lda:<860> log likelihood: -2643988\n",
      "INFO:lda:<870> log likelihood: -2644022\n",
      "INFO:lda:<880> log likelihood: -2643966\n",
      "INFO:lda:<890> log likelihood: -2643471\n",
      "INFO:lda:<900> log likelihood: -2644253\n",
      "INFO:lda:<910> log likelihood: -2644601\n",
      "INFO:lda:<920> log likelihood: -2644632\n",
      "INFO:lda:<930> log likelihood: -2644265\n",
      "INFO:lda:<940> log likelihood: -2645055\n",
      "INFO:lda:<950> log likelihood: -2644506\n",
      "INFO:lda:<960> log likelihood: -2643224\n",
      "INFO:lda:<970> log likelihood: -2643801\n",
      "INFO:lda:<980> log likelihood: -2644421\n",
      "INFO:lda:<990> log likelihood: -2643554\n",
      "INFO:lda:<1000> log likelihood: -2643484\n",
      "INFO:lda:<1010> log likelihood: -2643732\n",
      "INFO:lda:<1020> log likelihood: -2644507\n",
      "INFO:lda:<1030> log likelihood: -2644609\n",
      "INFO:lda:<1040> log likelihood: -2643035\n",
      "INFO:lda:<1050> log likelihood: -2644187\n",
      "INFO:lda:<1060> log likelihood: -2643624\n",
      "INFO:lda:<1070> log likelihood: -2643019\n",
      "INFO:lda:<1080> log likelihood: -2642571\n",
      "INFO:lda:<1090> log likelihood: -2644146\n",
      "INFO:lda:<1100> log likelihood: -2643337\n",
      "INFO:lda:<1110> log likelihood: -2643534\n",
      "INFO:lda:<1120> log likelihood: -2642698\n",
      "INFO:lda:<1130> log likelihood: -2643892\n",
      "INFO:lda:<1140> log likelihood: -2643762\n",
      "INFO:lda:<1150> log likelihood: -2643462\n",
      "INFO:lda:<1160> log likelihood: -2643039\n",
      "INFO:lda:<1170> log likelihood: -2643572\n",
      "INFO:lda:<1180> log likelihood: -2643359\n",
      "INFO:lda:<1190> log likelihood: -2642944\n",
      "INFO:lda:<1200> log likelihood: -2642952\n",
      "INFO:lda:<1210> log likelihood: -2642940\n",
      "INFO:lda:<1220> log likelihood: -2643660\n",
      "INFO:lda:<1230> log likelihood: -2643654\n",
      "INFO:lda:<1240> log likelihood: -2644241\n",
      "INFO:lda:<1250> log likelihood: -2644342\n",
      "INFO:lda:<1260> log likelihood: -2643638\n",
      "INFO:lda:<1270> log likelihood: -2643459\n",
      "INFO:lda:<1280> log likelihood: -2642908\n",
      "INFO:lda:<1290> log likelihood: -2642971\n",
      "INFO:lda:<1300> log likelihood: -2643850\n",
      "INFO:lda:<1310> log likelihood: -2642766\n",
      "INFO:lda:<1320> log likelihood: -2643479\n",
      "INFO:lda:<1330> log likelihood: -2642883\n",
      "INFO:lda:<1340> log likelihood: -2643095\n",
      "INFO:lda:<1350> log likelihood: -2642831\n",
      "INFO:lda:<1360> log likelihood: -2642914\n",
      "INFO:lda:<1370> log likelihood: -2644069\n",
      "INFO:lda:<1380> log likelihood: -2642829\n",
      "INFO:lda:<1390> log likelihood: -2641747\n",
      "INFO:lda:<1400> log likelihood: -2643350\n",
      "INFO:lda:<1410> log likelihood: -2642989\n",
      "INFO:lda:<1420> log likelihood: -2643708\n",
      "INFO:lda:<1430> log likelihood: -2642990\n",
      "INFO:lda:<1440> log likelihood: -2642352\n",
      "INFO:lda:<1450> log likelihood: -2642854\n",
      "INFO:lda:<1460> log likelihood: -2643546\n",
      "INFO:lda:<1470> log likelihood: -2643502\n",
      "INFO:lda:<1480> log likelihood: -2643534\n",
      "INFO:lda:<1490> log likelihood: -2643616\n",
      "INFO:lda:<1500> log likelihood: -2643558\n",
      "INFO:lda:<1510> log likelihood: -2642869\n",
      "INFO:lda:<1520> log likelihood: -2643874\n",
      "INFO:lda:<1530> log likelihood: -2643620\n",
      "INFO:lda:<1540> log likelihood: -2642884\n",
      "INFO:lda:<1550> log likelihood: -2643474\n",
      "INFO:lda:<1560> log likelihood: -2643667\n",
      "INFO:lda:<1570> log likelihood: -2643152\n",
      "INFO:lda:<1580> log likelihood: -2642236\n",
      "INFO:lda:<1590> log likelihood: -2643305\n",
      "INFO:lda:<1600> log likelihood: -2642982\n",
      "INFO:lda:<1610> log likelihood: -2643158\n",
      "INFO:lda:<1620> log likelihood: -2643046\n",
      "INFO:lda:<1630> log likelihood: -2642660\n",
      "INFO:lda:<1640> log likelihood: -2643323\n",
      "INFO:lda:<1650> log likelihood: -2642805\n",
      "INFO:lda:<1660> log likelihood: -2643121\n",
      "INFO:lda:<1670> log likelihood: -2643264\n",
      "INFO:lda:<1680> log likelihood: -2643682\n",
      "INFO:lda:<1690> log likelihood: -2642053\n",
      "INFO:lda:<1700> log likelihood: -2643601\n",
      "INFO:lda:<1710> log likelihood: -2643512\n",
      "INFO:lda:<1720> log likelihood: -2643116\n",
      "INFO:lda:<1730> log likelihood: -2643926\n",
      "INFO:lda:<1740> log likelihood: -2641848\n",
      "INFO:lda:<1750> log likelihood: -2642833\n",
      "INFO:lda:<1760> log likelihood: -2643779\n",
      "INFO:lda:<1770> log likelihood: -2643730\n",
      "INFO:lda:<1780> log likelihood: -2643373\n",
      "INFO:lda:<1790> log likelihood: -2643813\n",
      "INFO:lda:<1800> log likelihood: -2643623\n",
      "INFO:lda:<1810> log likelihood: -2643008\n",
      "INFO:lda:<1820> log likelihood: -2642924\n",
      "INFO:lda:<1830> log likelihood: -2642356\n",
      "INFO:lda:<1840> log likelihood: -2643383\n",
      "INFO:lda:<1850> log likelihood: -2642874\n",
      "INFO:lda:<1860> log likelihood: -2642477\n",
      "INFO:lda:<1870> log likelihood: -2643061\n",
      "INFO:lda:<1880> log likelihood: -2643313\n",
      "INFO:lda:<1890> log likelihood: -2643632\n",
      "INFO:lda:<1900> log likelihood: -2643869\n",
      "INFO:lda:<1910> log likelihood: -2642662\n",
      "INFO:lda:<1920> log likelihood: -2642800\n",
      "INFO:lda:<1930> log likelihood: -2642978\n",
      "INFO:lda:<1940> log likelihood: -2642676\n",
      "INFO:lda:<1950> log likelihood: -2643865\n",
      "INFO:lda:<1960> log likelihood: -2642534\n",
      "INFO:lda:<1970> log likelihood: -2642725\n",
      "INFO:lda:<1980> log likelihood: -2642912\n",
      "INFO:lda:<1990> log likelihood: -2643923\n"
     ]
    },
    {
     "name": "stderr",
     "output_type": "stream",
     "text": [
      "INFO:lda:<1999> log likelihood: -2643577\n"
     ]
    }
   ],
   "source": [
    "def TLDA(matrix, num_topic = 20, num_iteration = 2000):\n",
    "    model = lda.LDA(n_topics=num_topic, n_iter=num_iteration, random_state=1)\n",
    "    model.fit(main_matrix)\n",
    "    return model.doc_topic_, model.topic_word_\n",
    "user_pattern_matrix, pattern_checkin_matrix = TLDA(main_matrix)"
   ]
  },
  {
   "cell_type": "markdown",
   "metadata": {},
   "source": [
    "<h2> pattern-venue distribution & pattern-venue matrix </h2>"
   ]
  },
  {
   "cell_type": "code",
   "execution_count": 394,
   "metadata": {},
   "outputs": [],
   "source": [
    "# format : {pattern_1 : {venue_category_1 : a%, venue_category_2 : b%...}, pattern_2 : {...}, ...}\n",
    "pattern_venue_distribution = defaultdict(lambda : defaultdict(lambda:0))\n",
    "\n",
    "pattern_venue_matrix = [[0.0] * 251] * pattern_checkin_matrix.shape[0]\n",
    "pattern_venue_matrix = np.array(pattern_venue_matrix)\n",
    "\n",
    "for i in range(pattern_checkin_matrix.shape[0]):\n",
    "    for j in range(pattern_checkin_matrix.shape[1]):\n",
    "        pattern_venue_distribution[i][index_checkin_mapping[j][0]] += pattern_checkin_matrix[i, j]\n",
    "\n",
    "for i, venues in pattern_venue_distribution.items():\n",
    "    for venue, percentage in venues.items():\n",
    "        j = venue_index_mapping[venue]\n",
    "        pattern_venue_matrix[i, j] = percentage"
   ]
  },
  {
   "cell_type": "markdown",
   "metadata": {},
   "source": [
    "<h2> pattern-hour distribution & pattern-hour matrix"
   ]
  },
  {
   "cell_type": "code",
   "execution_count": 417,
   "metadata": {},
   "outputs": [],
   "source": [
    "# format : {pattern_1 : {hour_1 : a%, hour_2 : b%...}, pattern_2 : {...}, ...}\n",
    "pattern_hour_distribution = defaultdict(lambda : defaultdict(lambda:0))\n",
    "\n",
    "pattern_hour_matrix = [[0.0] * 24] * pattern_checkin_matrix.shape[0]\n",
    "pattern_hour_matrix = np.array(pattern_hour_matrix)\n",
    "\n",
    "for i in range(pattern_checkin_matrix.shape[0]):\n",
    "    for j in range(pattern_checkin_matrix.shape[1]):\n",
    "        pattern_hour_distribution[i][index_checkin_mapping[j][1].split('-')[2]] += pattern_checkin_matrix[i, j]\n",
    "\n",
    "for i, hours in pattern_hour_distribution.items():\n",
    "    for hour, percentage in hours.items():\n",
    "        j = hour_index_mapping[hour]\n",
    "        pattern_hour_matrix[i, j] = percentage"
   ]
  },
  {
   "cell_type": "markdown",
   "metadata": {},
   "source": [
    "<h2> Evaluation of TLDA</h2>"
   ]
  },
  {
   "cell_type": "markdown",
   "metadata": {},
   "source": [
    "__Inputs:__\n",
    "1. top venue categories `V*` for each pattern.\n",
    "2. top time periods (hours) `T*` for each pattern.\n",
    "3. all the check-in activities `SW`."
   ]
  },
  {
   "cell_type": "markdown",
   "metadata": {},
   "source": [
    "__High level:__\n",
    "\n",
    "1. we firstly define a segmentation `S_{one set}` for each __top venue category__ `v*` in each pattern:\n",
    "<img src=\"one_set.png\">\n",
    "\n",
    "We use `S` to denote the set of all segmentations `S_{one set}`, and `|S|` = `Q`.\n",
    "2. For each segmentation `S_{one set}`, we calculate the normalised pointwise mutual information (NPMI) for `v*-T*` vector and `V*-T*` vector, respectively: \n",
    "<img src=\"little_w.png\">\n",
    "\n",
    "where `P (v*, t*_j )` is the probability of the co-occurrence of `v*` and `t*_j`. \n",
    "\n",
    "3. After calculating the NPMI value for each venue category, we aggregate them to obtain the jth element of the time vector of `V∗` by the following equation:\n",
    "<img src=\"big_w.png\">\n",
    "\n",
    "where `v*_i` represents the ith venue category in `V*`.\n",
    "\n",
    "4. Cosine similarity is then calculated between pairs of context vectors `w_q` and `W_q`, and then obtain the final score\n",
    "<img src=\"mq.png\">\n",
    "<img src=\"m.png\">"
   ]
  },
  {
   "cell_type": "markdown",
   "metadata": {},
   "source": [
    "__Pseudocode:__\n",
    "<img src=\"pseudo.png\">"
   ]
  },
  {
   "cell_type": "code",
   "execution_count": null,
   "metadata": {},
   "outputs": [],
   "source": [
    "# pattern_venue_matrix \n",
    "# pattern_hour_matrix\n",
    "V_star = defaultdict(list)\n"
   ]
  }
 ],
 "metadata": {
  "kernelspec": {
   "display_name": "Python 3",
   "language": "python",
   "name": "python3"
  },
  "language_info": {
   "codemirror_mode": {
    "name": "ipython",
    "version": 3
   },
   "file_extension": ".py",
   "mimetype": "text/x-python",
   "name": "python",
   "nbconvert_exporter": "python",
   "pygments_lexer": "ipython3",
   "version": "3.7.0"
  }
 },
 "nbformat": 4,
 "nbformat_minor": 2
}
