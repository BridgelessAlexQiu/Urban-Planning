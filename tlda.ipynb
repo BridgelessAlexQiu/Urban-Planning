{
 "cells": [
  {
   "cell_type": "markdown",
   "metadata": {},
   "source": [
    "<center><h1>TLDA</h1></center>"
   ]
  },
  {
   "cell_type": "markdown",
   "metadata": {},
   "source": [
    "<img src=\"tlda.png\">"
   ]
  },
  {
   "cell_type": "markdown",
   "metadata": {},
   "source": [
    "1. `theta_u` : pattern distribution of user *u*.\n",
    "2. `phi_t` : pattern distribution of time *t*.\n",
    "3. `psi_z` : venue category distribution of pattern *z*\n",
    "4. sfs\n",
    "\n",
    "Analogous to the traditional LDA : `document` - `user/time`, `topic` - `cultural pattern`, and `word` - `venue`."
   ]
  },
  {
   "cell_type": "markdown",
   "metadata": {},
   "source": [
    "<h2>Data Extraction</h2>"
   ]
  },
  {
   "cell_type": "markdown",
   "metadata": {},
   "source": [
    "1. `checkin_data` : {*user1* : [(*venue_category_1*, *time_1*), (*venue_category_2*, *time_2*),..., (*venue_category_n*, *time_n*)],*user2* : [(*venue_category_1*, *time_1*), (*venue_category_2*, *time_2*) ...], *user3*...}.\n",
    "2. `venues` : list of venue ids.\n",
    "3. `venue_categories` : list of venue categories.\n"
   ]
  },
  {
   "cell_type": "code",
   "execution_count": 1,
   "metadata": {},
   "outputs": [],
   "source": [
    "from collections import defaultdict\n",
    "import numpy as np"
   ]
  },
  {
   "cell_type": "code",
   "execution_count": 2,
   "metadata": {},
   "outputs": [],
   "source": [
    "# Month(str): Jan Feb [Mar not included] Apr May Jun Jul Aug Sep Oct Nov Dec\n",
    "# day: Mon, Tue, Wed, Thu, Fri, Sat, Sun\n",
    "# Hour(int): 0, 1, 2, 3, 4, 5, 6, 7, 8, 9, 10, 11, 12, 13, 14, 15, 16, 17, 18, 19, 20, 21, 22, 23\n",
    "\n",
    "\n",
    "# data format: (user1 (venue_category_1, time_1,), (venue_category_2, time_2), (venue_category_3, time_3))\n",
    "# time format: month-day-hour; Example: (Oct-Wed-13)\n",
    "\n",
    "# our main data\n",
    "checkin_data = defaultdict(list)\n",
    "\n",
    "# store all venues (not venue categories)\n",
    "venues = set()\n",
    "\n",
    "# The encoding problem does not exist in windows OS\n",
    "nyc = open(\"nyc.txt\", encoding='ISO-8859-1')\n",
    "\n",
    "i = 0\n",
    "\n",
    "# data extraction\n",
    "for checkin in nyc:\n",
    "    checkin_time = (checkin.split('\\t')[-1]).split(' ')\n",
    "    \n",
    "    # time in the correct format\n",
    "    time = checkin_time[1] + '-' + checkin_time[0] + '-' + checkin_time[3].split(':')[0]\n",
    "    \n",
    "    # corresponding venue category, combine categories into a single category\n",
    "    category = checkin.split('\\t')[3]\n",
    "    if 'Restaurant' in category:\n",
    "        venue_category = 'Restaurant'\n",
    "    elif 'Joint' in category:\n",
    "        venue_category = 'Food Joint'\n",
    "    elif 'Museum' in category:\n",
    "        venue_category = 'Museum'\n",
    "    else:\n",
    "        venue_category = category\n",
    "    \n",
    "    # one checkin tuple of this user\n",
    "    single_checkin = (venue_category, time)\n",
    "\n",
    "    #user id\n",
    "    user = checkin.split('\\t')[0]\n",
    "    \n",
    "    checkin_data[user].append(single_checkin)\n"
   ]
  },
  {
   "cell_type": "code",
   "execution_count": 3,
   "metadata": {},
   "outputs": [],
   "source": [
    "# format : {venue_category_1 : count 1, venue_category_2 : count 2, ...}\n",
    "venue_count = defaultdict(lambda : 0)\n",
    "for user, checkins in checkin_data.items():\n",
    "    for checkin in checkins:\n",
    "        venue_count[checkin[0]] += 1"
   ]
  },
  {
   "cell_type": "code",
   "execution_count": 4,
   "metadata": {},
   "outputs": [],
   "source": [
    "# delete all checkins whose venue categories have not been visited over 1200 times\n",
    "for user, checkins in checkin_data.items():\n",
    "    new_checkins = []\n",
    "    for checkin in checkins:\n",
    "        if venue_count[checkin[0]] >= 1200:\n",
    "            new_checkins.append(checkin)\n",
    "    checkin_data[user] = new_checkins"
   ]
  },
  {
   "cell_type": "code",
   "execution_count": 5,
   "metadata": {},
   "outputs": [],
   "source": [
    "# remove users who visited less than 100 places\n",
    "remove = []\n",
    "for user, checkins in checkin_data.items():\n",
    "    if len(checkins) < 100:\n",
    "        remove.append(user)\n",
    "for r in remove:\n",
    "    del checkin_data[r]"
   ]
  },
  {
   "cell_type": "code",
   "execution_count": 6,
   "metadata": {},
   "outputs": [
    {
     "name": "stdout",
     "output_type": "stream",
     "text": [
      "Number of users: 782\n",
      "Number of venue categories: 40\n",
      "Nnumber of venues: 38333\n",
      "Number of checkins: 158746\n",
      "Maxmimum number of check-ins per user: 2063\n",
      "Minimum number of check-ins per user: 100\n",
      "Number of distinct check-ins: 39936\n"
     ]
    }
   ],
   "source": [
    "print(\"Number of users: {}\".format(len(checkin_data)))\n",
    "venue_categories = set()\n",
    "\n",
    "for user, checkins in checkin_data.items():\n",
    "    for checkin in checkins:\n",
    "        venue_categories.add(checkin[0])\n",
    "print(\"Number of venue categories: {}\".format(len(venue_categories)))\n",
    "\n",
    "total_checkins = 0\n",
    "for user, checkins in checkin_data.items():\n",
    "    total_checkins += len(checkins)\n",
    "    \n",
    "print(\"Number of checkins: {}\".format(total_checkins))\n",
    "\n",
    "max = 0\n",
    "min = 5000\n",
    "for user, checkins in checkin_data.items():\n",
    "    if len(checkins) <= min:\n",
    "        min = len(checkins)\n",
    "    if len(checkins) >= max:\n",
    "        max = len(checkins)\n",
    "print(\"Maxmimum number of check-ins per user: {}\".format(max))\n",
    "print(\"Minimum number of check-ins per user: {}\".format(min))\n",
    "\n",
    "distinct_checkins = set()\n",
    "for checkins in checkin_data.values():\n",
    "    for checkin in checkins:\n",
    "        distinct_checkins.add(checkin)\n",
    "print(\"Number of distinct check-ins: {}\".format(len(distinct_checkins)))\n",
    "\n",
    "# store categories into a file\n",
    "f = open('venue_categories.txt', 'w+')\n",
    "\n",
    "for v in venue_categories:\n",
    "    f.write(v + '\\n')"
   ]
  },
  {
   "cell_type": "code",
   "execution_count": 7,
   "metadata": {},
   "outputs": [],
   "source": [
    "number_of_users = len(checkin_data)\n",
    "\n",
    "number_of_venue_categories = len(venue_categories)\n",
    "\n",
    "number_of_distinct_checkins = len(distinct_checkins)\n",
    "\n",
    "number_of_checkins = total_checkins"
   ]
  },
  {
   "cell_type": "markdown",
   "metadata": {},
   "source": [
    "<h2> Basic info - Before </h2>"
   ]
  },
  {
   "cell_type": "markdown",
   "metadata": {},
   "source": [
    "1. `1083` users, with id from `1` to `1083`. \n",
    "2. `38333` venues.\n",
    "3. `251` venue categories.\n",
    "4. `227428` checkins\n",
    "5. Maxmimum number of check-ins per user: `2697`\n",
    "6. Minimum number of check-ins per user: `100`\n",
    "7. Number of distinct check-ins: `81320`\n"
   ]
  },
  {
   "cell_type": "markdown",
   "metadata": {},
   "source": [
    "<h1>Basic info - After</h1>"
   ]
  },
  {
   "cell_type": "markdown",
   "metadata": {},
   "source": [
    "1. `782` users\n",
    "2. `38333` venues.\n",
    "3. `251` venue categories.\n",
    "4. `158746` checkins\n",
    "5. Maxmimum number of check-ins per user: `2063`\n",
    "6. Minimum number of check-ins per user: `100`\n",
    "7. Number of distinct check-ins: `39936`\n"
   ]
  },
  {
   "cell_type": "markdown",
   "metadata": {},
   "source": [
    "<h2>What the author did</h2>"
   ]
  },
  {
   "cell_type": "markdown",
   "metadata": {},
   "source": [
    "1. first filter cultural fans based on users with at least 20 check-ins. \n",
    "2. Besides a venue category label, also represent a temporal label for each cultural check-in with three levels of identifiers, including month of year (Oct), day of week (Fri), and hour of day (13). Following this form of expression, a user’s check-in history can be represented as `(User3, ((Concert hall, JulFri20), (Golf, OctSun10), (Yoga, AprFri18))`, for example.\n",
    "3. Run the TLDA model with the optimum number of patterns *K* given by TCV. We adopt 7 numbers from 3 to 9 as candidates, run the TLDA for 100 iterations each, and get their respective average TCV scores. Select *K* with the highest score."
   ]
  },
  {
   "cell_type": "markdown",
   "metadata": {},
   "source": [
    "<h2> What we did with respect to points above</h2>"
   ]
  },
  {
   "cell_type": "markdown",
   "metadata": {},
   "source": [
    "1. For our data set, the minimum number of checkins per user is 100 (the maximum is 2063), therefore, there is no need to trim the data.\n",
    "2. We followed the author's approach, however, based on the heatmap, the cultural pattern with respect to day is not signification, therefore, we might change the time format to `(month-hour)` instand of `(month-day-hour)`."
   ]
  },
  {
   "cell_type": "markdown",
   "metadata": {},
   "source": [
    "<h2> My approach </h2>"
   ]
  },
  {
   "cell_type": "markdown",
   "metadata": {},
   "source": [
    "The input to `lda` library has to be a document-term matrix `X` where `X_{ij}` = the number of times term at index `j` appears in document `i`. <br>\n",
    "There are 782 users, in other words, 782 \"documents\", and 39936 distinct check-in data, in other words, 39936 \"words\". So we construct a 782 by 39936 matrix as the input. <br>\n",
    "Because users in the `checkin_data` is not ordered based on their ids, we have to create a user_id - index mapping. Similarily, we also create a checkin-index mapping. <br>\n",
    "Then, after the LDA, we also need to map index back to users and checkins. Therefore, we also need a index-user_id mapping and index-checkin mapping which is exactly the reverse of two data structures above."
   ]
  },
  {
   "cell_type": "markdown",
   "metadata": {},
   "source": [
    "<h2> Potentianl issues </h2>"
   ]
  },
  {
   "cell_type": "markdown",
   "metadata": {},
   "source": [
    "Here we adopt the notion: `user` - `document`, `cultural pattern` - `topic`, `checkin` - `words`. \n",
    "1. The issue concerns me the most this the low frequencies of all words. Within a document, it is less likely (stil possible) to have the same word occurs twice. Within the corpus which consists of 1083 documents, on average, a word appears four times cross these 1083 documents. This is not a very good ratio. "
   ]
  },
  {
   "cell_type": "code",
   "execution_count": 8,
   "metadata": {},
   "outputs": [],
   "source": [
    "import lda\n",
    "import numpy as np\n",
    "import math\n",
    "from collections import defaultdict\n",
    "from scipy import spatial"
   ]
  },
  {
   "cell_type": "markdown",
   "metadata": {},
   "source": [
    "<h2> Construct the user_id and checkin mappings </h2>"
   ]
  },
  {
   "cell_type": "code",
   "execution_count": 9,
   "metadata": {},
   "outputs": [],
   "source": [
    "#checkin_data : {user1 : [(venue_category_1, time_1), (venue_category_2, time_2), (venue_category_3, time_3...)], \n",
    "#                user2 : [(venue_category_13, time_13), (...) ...] ...}\n",
    "\n",
    "\n",
    "user_index_mapping = dict()\n",
    "\n",
    "index_user_mapping = dict()\n",
    "\n",
    "for index, user in enumerate(checkin_data.keys()):\n",
    "    user_index_mapping[user] = index\n",
    "    index_user_mapping[index] = user\n",
    "\n",
    "    \n",
    "checkin_index_mapping = dict()\n",
    "\n",
    "index_checkin_mapping = dict()\n",
    "\n",
    "index = 0\n",
    "for checkins in checkin_data.values():\n",
    "    for checkin in checkins:\n",
    "        if checkin_index_mapping.get(checkin) == None:\n",
    "            checkin_index_mapping[checkin] = index\n",
    "            index_checkin_mapping[index] = checkin\n",
    "            index += 1"
   ]
  },
  {
   "cell_type": "markdown",
   "metadata": {},
   "source": [
    "<h2> Main user-checkin matrix </h2>"
   ]
  },
  {
   "cell_type": "code",
   "execution_count": 10,
   "metadata": {},
   "outputs": [],
   "source": [
    "# construct and initialize the main matrix with all elements equal to zero\n",
    "main_matrix = [[0] * number_of_distinct_checkins] * number_of_users\n",
    "main_matrix = np.array(main_matrix)\n",
    "\n",
    "# fill in the main matrix with data, suppose user1 has checkin data (venue_category_1, time_1), then element of main matrix at \n",
    "# index i = index_user_mapping[user1], j = index_checkin_mapping[(venue_category_1, time_1)] is 1\n",
    "for user, checkins in checkin_data.items():\n",
    "    i = user_index_mapping[user]\n",
    "    for checkin in checkins:\n",
    "        j = checkin_index_mapping[checkin]\n",
    "        main_matrix[i,j] += 1 # it is possible that the same time occurs twice!!!!!!!!!!!!"
   ]
  },
  {
   "cell_type": "code",
   "execution_count": 11,
   "metadata": {},
   "outputs": [
    {
     "name": "stdout",
     "output_type": "stream",
     "text": [
      "161\n",
      "161\n",
      "--------------------------------\n",
      "True\n"
     ]
    }
   ],
   "source": [
    "# check if code is correct\n",
    "index = 123\n",
    "print(np.sum(main_matrix[index]))\n",
    "\n",
    "user = index_user_mapping[index]\n",
    "print(len(checkin_data[user]))\n",
    "\n",
    "print(\"--------------------------------\")\n",
    "\n",
    "l1 = list()\n",
    "l2 = set() # because there are duplicates\n",
    "x = 0\n",
    "for i in main_matrix[index]:\n",
    "    if i != 0:\n",
    "        l1.append(x)\n",
    "    x += 1\n",
    "\n",
    "for c in checkin_data[user]:\n",
    "    l2.add(checkin_index_mapping[c])\n",
    "    \n",
    "l2 = list(l2)\n",
    "print(sorted(l1) == sorted(l2))"
   ]
  },
  {
   "cell_type": "markdown",
   "metadata": {},
   "source": [
    "<h2> venue_category, month, day and hour mappings </h2>"
   ]
  },
  {
   "cell_type": "code",
   "execution_count": 12,
   "metadata": {},
   "outputs": [],
   "source": [
    "venue_categories = set()\n",
    "for user, checkins in checkin_data.items():\n",
    "    for checkin in checkins:\n",
    "        venue_categories.add(checkin[0])\n",
    "        \n",
    "venue_index_mapping = dict()\n",
    "index_venue_mapping = dict()\n",
    "\n",
    "for i, venue in enumerate(venue_categories):\n",
    "    venue_index_mapping[venue] = i\n",
    "    index_venue_mapping[i] = venue"
   ]
  },
  {
   "cell_type": "code",
   "execution_count": 13,
   "metadata": {},
   "outputs": [],
   "source": [
    "# THERE IS NO MARCH IN THE DATA SET!!!!!!!!!!!!!!!!!!!!!!!!!!!!!!!!!!!!!!!!!!!\n",
    "month = ['Jan', 'Feb', 'Mar', 'Apr', 'May', 'Jun', 'Jul', 'Aug', 'Sep', 'Oct', 'Nov', 'Dec']\n",
    "month_index_mapping = dict()\n",
    "index_month_mapping = dict()\n",
    "\n",
    "for i, m in enumerate(month):\n",
    "    month_index_mapping[m] = i\n",
    "    index_month_mapping[i] = m"
   ]
  },
  {
   "cell_type": "code",
   "execution_count": 14,
   "metadata": {},
   "outputs": [],
   "source": [
    "day = ['Mon', 'Tue', 'Wed', 'Thu', 'Fri', 'Sat', 'Sun']\n",
    "day_index_mapping = dict()\n",
    "index_day_mapping = dict()\n",
    "\n",
    "for i, d in enumerate(day):\n",
    "    day_index_mapping[d] = i\n",
    "    index_day_mapping[i] = d"
   ]
  },
  {
   "cell_type": "code",
   "execution_count": 15,
   "metadata": {},
   "outputs": [],
   "source": [
    "hour = ['00', '01', '02', '03', '04', '05', '06', '07', '08', '09', '10', '11', '12', '13', '14', '15', '16', '17', '18', '19', \n",
    "        '20', '21', '22', '23']\n",
    "hour_index_mapping = dict()\n",
    "index_hour_mapping = dict()\n",
    "\n",
    "for i, h in enumerate(hour):\n",
    "    hour_index_mapping[h] = i\n",
    "    index_hour_mapping[i] = h"
   ]
  },
  {
   "cell_type": "markdown",
   "metadata": {},
   "source": [
    "<h2> Pass the matrix to the algorithm </h2>"
   ]
  },
  {
   "cell_type": "code",
   "execution_count": 57,
   "metadata": {
    "scrolled": true
   },
   "outputs": [
    {
     "name": "stderr",
     "output_type": "stream",
     "text": [
      "INFO:lda:n_documents: 782\n",
      "INFO:lda:vocab_size: 39936\n",
      "INFO:lda:n_words: 158746\n",
      "INFO:lda:n_topics: 9\n",
      "INFO:lda:n_iter: 2000\n",
      "INFO:lda:<0> log likelihood: -2257865\n",
      "INFO:lda:<10> log likelihood: -1816302\n",
      "INFO:lda:<20> log likelihood: -1794237\n",
      "INFO:lda:<30> log likelihood: -1778022\n",
      "INFO:lda:<40> log likelihood: -1762681\n",
      "INFO:lda:<50> log likelihood: -1749884\n",
      "INFO:lda:<60> log likelihood: -1741483\n",
      "INFO:lda:<70> log likelihood: -1733950\n",
      "INFO:lda:<80> log likelihood: -1729304\n",
      "INFO:lda:<90> log likelihood: -1724057\n",
      "INFO:lda:<100> log likelihood: -1720995\n",
      "INFO:lda:<110> log likelihood: -1717791\n",
      "INFO:lda:<120> log likelihood: -1715682\n",
      "INFO:lda:<130> log likelihood: -1713186\n",
      "INFO:lda:<140> log likelihood: -1710515\n",
      "INFO:lda:<150> log likelihood: -1709891\n",
      "INFO:lda:<160> log likelihood: -1708914\n",
      "INFO:lda:<170> log likelihood: -1708448\n",
      "INFO:lda:<180> log likelihood: -1706322\n",
      "INFO:lda:<190> log likelihood: -1705238\n",
      "INFO:lda:<200> log likelihood: -1704822\n",
      "INFO:lda:<210> log likelihood: -1703721\n",
      "INFO:lda:<220> log likelihood: -1703433\n",
      "INFO:lda:<230> log likelihood: -1702965\n",
      "INFO:lda:<240> log likelihood: -1702076\n",
      "INFO:lda:<250> log likelihood: -1701733\n",
      "INFO:lda:<260> log likelihood: -1701014\n",
      "INFO:lda:<270> log likelihood: -1700742\n",
      "INFO:lda:<280> log likelihood: -1700449\n",
      "INFO:lda:<290> log likelihood: -1699876\n",
      "INFO:lda:<300> log likelihood: -1699644\n",
      "INFO:lda:<310> log likelihood: -1699428\n",
      "INFO:lda:<320> log likelihood: -1699440\n",
      "INFO:lda:<330> log likelihood: -1698035\n",
      "INFO:lda:<340> log likelihood: -1698169\n",
      "INFO:lda:<350> log likelihood: -1697804\n",
      "INFO:lda:<360> log likelihood: -1697561\n",
      "INFO:lda:<370> log likelihood: -1697698\n",
      "INFO:lda:<380> log likelihood: -1696699\n",
      "INFO:lda:<390> log likelihood: -1696803\n",
      "INFO:lda:<400> log likelihood: -1696704\n",
      "INFO:lda:<410> log likelihood: -1696410\n",
      "INFO:lda:<420> log likelihood: -1696361\n",
      "INFO:lda:<430> log likelihood: -1696675\n",
      "INFO:lda:<440> log likelihood: -1695817\n",
      "INFO:lda:<450> log likelihood: -1696921\n",
      "INFO:lda:<460> log likelihood: -1695689\n",
      "INFO:lda:<470> log likelihood: -1695262\n",
      "INFO:lda:<480> log likelihood: -1694911\n",
      "INFO:lda:<490> log likelihood: -1694708\n",
      "INFO:lda:<500> log likelihood: -1694876\n",
      "INFO:lda:<510> log likelihood: -1694847\n",
      "INFO:lda:<520> log likelihood: -1694777\n",
      "INFO:lda:<530> log likelihood: -1693693\n",
      "INFO:lda:<540> log likelihood: -1693671\n",
      "INFO:lda:<550> log likelihood: -1693982\n",
      "INFO:lda:<560> log likelihood: -1693995\n",
      "INFO:lda:<570> log likelihood: -1693818\n",
      "INFO:lda:<580> log likelihood: -1693514\n",
      "INFO:lda:<590> log likelihood: -1693393\n",
      "INFO:lda:<600> log likelihood: -1693748\n",
      "INFO:lda:<610> log likelihood: -1692916\n",
      "INFO:lda:<620> log likelihood: -1693349\n",
      "INFO:lda:<630> log likelihood: -1693437\n",
      "INFO:lda:<640> log likelihood: -1693328\n",
      "INFO:lda:<650> log likelihood: -1692726\n",
      "INFO:lda:<660> log likelihood: -1693382\n",
      "INFO:lda:<670> log likelihood: -1693309\n",
      "INFO:lda:<680> log likelihood: -1692745\n",
      "INFO:lda:<690> log likelihood: -1692808\n",
      "INFO:lda:<700> log likelihood: -1692406\n",
      "INFO:lda:<710> log likelihood: -1692411\n",
      "INFO:lda:<720> log likelihood: -1692502\n",
      "INFO:lda:<730> log likelihood: -1693119\n",
      "INFO:lda:<740> log likelihood: -1692842\n",
      "INFO:lda:<750> log likelihood: -1693031\n",
      "INFO:lda:<760> log likelihood: -1692924\n",
      "INFO:lda:<770> log likelihood: -1692672\n",
      "INFO:lda:<780> log likelihood: -1692688\n",
      "INFO:lda:<790> log likelihood: -1692677\n",
      "INFO:lda:<800> log likelihood: -1692396\n",
      "INFO:lda:<810> log likelihood: -1692434\n",
      "INFO:lda:<820> log likelihood: -1692435\n",
      "INFO:lda:<830> log likelihood: -1692442\n",
      "INFO:lda:<840> log likelihood: -1692807\n",
      "INFO:lda:<850> log likelihood: -1692651\n",
      "INFO:lda:<860> log likelihood: -1692863\n",
      "INFO:lda:<870> log likelihood: -1693029\n",
      "INFO:lda:<880> log likelihood: -1693472\n",
      "INFO:lda:<890> log likelihood: -1693178\n",
      "INFO:lda:<900> log likelihood: -1693149\n",
      "INFO:lda:<910> log likelihood: -1693192\n",
      "INFO:lda:<920> log likelihood: -1692945\n",
      "INFO:lda:<930> log likelihood: -1692779\n",
      "INFO:lda:<940> log likelihood: -1693408\n",
      "INFO:lda:<950> log likelihood: -1692892\n",
      "INFO:lda:<960> log likelihood: -1692552\n",
      "INFO:lda:<970> log likelihood: -1692675\n",
      "INFO:lda:<980> log likelihood: -1692056\n",
      "INFO:lda:<990> log likelihood: -1693177\n",
      "INFO:lda:<1000> log likelihood: -1692715\n",
      "INFO:lda:<1010> log likelihood: -1692493\n",
      "INFO:lda:<1020> log likelihood: -1692434\n",
      "INFO:lda:<1030> log likelihood: -1692595\n",
      "INFO:lda:<1040> log likelihood: -1692552\n",
      "INFO:lda:<1050> log likelihood: -1692797\n",
      "INFO:lda:<1060> log likelihood: -1693006\n",
      "INFO:lda:<1070> log likelihood: -1692899\n",
      "INFO:lda:<1080> log likelihood: -1692881\n",
      "INFO:lda:<1090> log likelihood: -1693048\n",
      "INFO:lda:<1100> log likelihood: -1692810\n",
      "INFO:lda:<1110> log likelihood: -1693215\n",
      "INFO:lda:<1120> log likelihood: -1692728\n",
      "INFO:lda:<1130> log likelihood: -1692780\n",
      "INFO:lda:<1140> log likelihood: -1692883\n",
      "INFO:lda:<1150> log likelihood: -1692758\n",
      "INFO:lda:<1160> log likelihood: -1692885\n",
      "INFO:lda:<1170> log likelihood: -1692693\n",
      "INFO:lda:<1180> log likelihood: -1692787\n",
      "INFO:lda:<1190> log likelihood: -1692067\n",
      "INFO:lda:<1200> log likelihood: -1691936\n",
      "INFO:lda:<1210> log likelihood: -1692403\n",
      "INFO:lda:<1220> log likelihood: -1691997\n",
      "INFO:lda:<1230> log likelihood: -1692141\n",
      "INFO:lda:<1240> log likelihood: -1692567\n",
      "INFO:lda:<1250> log likelihood: -1692140\n",
      "INFO:lda:<1260> log likelihood: -1691941\n",
      "INFO:lda:<1270> log likelihood: -1692425\n",
      "INFO:lda:<1280> log likelihood: -1692448\n",
      "INFO:lda:<1290> log likelihood: -1692577\n",
      "INFO:lda:<1300> log likelihood: -1692320\n",
      "INFO:lda:<1310> log likelihood: -1692577\n",
      "INFO:lda:<1320> log likelihood: -1692260\n",
      "INFO:lda:<1330> log likelihood: -1692488\n",
      "INFO:lda:<1340> log likelihood: -1692211\n",
      "INFO:lda:<1350> log likelihood: -1692418\n",
      "INFO:lda:<1360> log likelihood: -1692121\n",
      "INFO:lda:<1370> log likelihood: -1692818\n",
      "INFO:lda:<1380> log likelihood: -1692855\n",
      "INFO:lda:<1390> log likelihood: -1693108\n",
      "INFO:lda:<1400> log likelihood: -1692827\n",
      "INFO:lda:<1410> log likelihood: -1692503\n",
      "INFO:lda:<1420> log likelihood: -1692268\n",
      "INFO:lda:<1430> log likelihood: -1692723\n",
      "INFO:lda:<1440> log likelihood: -1691838\n",
      "INFO:lda:<1450> log likelihood: -1692209\n",
      "INFO:lda:<1460> log likelihood: -1692661\n",
      "INFO:lda:<1470> log likelihood: -1692521\n",
      "INFO:lda:<1480> log likelihood: -1692555\n",
      "INFO:lda:<1490> log likelihood: -1692497\n",
      "INFO:lda:<1500> log likelihood: -1692522\n",
      "INFO:lda:<1510> log likelihood: -1692866\n",
      "INFO:lda:<1520> log likelihood: -1692415\n",
      "INFO:lda:<1530> log likelihood: -1692367\n",
      "INFO:lda:<1540> log likelihood: -1692163\n",
      "INFO:lda:<1550> log likelihood: -1692143\n",
      "INFO:lda:<1560> log likelihood: -1692577\n",
      "INFO:lda:<1570> log likelihood: -1691969\n",
      "INFO:lda:<1580> log likelihood: -1692066\n",
      "INFO:lda:<1590> log likelihood: -1692790\n",
      "INFO:lda:<1600> log likelihood: -1691977\n",
      "INFO:lda:<1610> log likelihood: -1692594\n",
      "INFO:lda:<1620> log likelihood: -1692536\n",
      "INFO:lda:<1630> log likelihood: -1692462\n",
      "INFO:lda:<1640> log likelihood: -1692247\n",
      "INFO:lda:<1650> log likelihood: -1691925\n",
      "INFO:lda:<1660> log likelihood: -1692976\n",
      "INFO:lda:<1670> log likelihood: -1692537\n",
      "INFO:lda:<1680> log likelihood: -1692301\n",
      "INFO:lda:<1690> log likelihood: -1692256\n",
      "INFO:lda:<1700> log likelihood: -1692647\n",
      "INFO:lda:<1710> log likelihood: -1692172\n",
      "INFO:lda:<1720> log likelihood: -1692273\n",
      "INFO:lda:<1730> log likelihood: -1692273\n",
      "INFO:lda:<1740> log likelihood: -1691953\n",
      "INFO:lda:<1750> log likelihood: -1691952\n",
      "INFO:lda:<1760> log likelihood: -1692636\n",
      "INFO:lda:<1770> log likelihood: -1692463\n",
      "INFO:lda:<1780> log likelihood: -1692920\n",
      "INFO:lda:<1790> log likelihood: -1692934\n",
      "INFO:lda:<1800> log likelihood: -1692546\n",
      "INFO:lda:<1810> log likelihood: -1692581\n",
      "INFO:lda:<1820> log likelihood: -1692546\n",
      "INFO:lda:<1830> log likelihood: -1691628\n",
      "INFO:lda:<1840> log likelihood: -1692007\n",
      "INFO:lda:<1850> log likelihood: -1693089\n",
      "INFO:lda:<1860> log likelihood: -1692304\n",
      "INFO:lda:<1870> log likelihood: -1692767\n",
      "INFO:lda:<1880> log likelihood: -1692326\n",
      "INFO:lda:<1890> log likelihood: -1691962\n",
      "INFO:lda:<1900> log likelihood: -1692023\n",
      "INFO:lda:<1910> log likelihood: -1692379\n",
      "INFO:lda:<1920> log likelihood: -1692136\n",
      "INFO:lda:<1930> log likelihood: -1692193\n",
      "INFO:lda:<1940> log likelihood: -1692275\n",
      "INFO:lda:<1950> log likelihood: -1692015\n",
      "INFO:lda:<1960> log likelihood: -1692280\n",
      "INFO:lda:<1970> log likelihood: -1692068\n",
      "INFO:lda:<1980> log likelihood: -1692352\n",
      "INFO:lda:<1990> log likelihood: -1692260\n"
     ]
    },
    {
     "name": "stderr",
     "output_type": "stream",
     "text": [
      "INFO:lda:<1999> log likelihood: -1691976\n"
     ]
    }
   ],
   "source": [
    "def TLDA(matrix, num_topic = 9, num_iteration = 2000):\n",
    "    model = lda.LDA(n_topics=num_topic, n_iter=num_iteration, random_state=1)\n",
    "    model.fit(main_matrix)\n",
    "    return model.doc_topic_, model.topic_word_\n",
    "user_pattern_matrix, pattern_checkin_matrix = TLDA(main_matrix)"
   ]
  },
  {
   "cell_type": "markdown",
   "metadata": {},
   "source": [
    "<h2> pattern-venue distribution & pattern-venue matrix </h2>"
   ]
  },
  {
   "cell_type": "code",
   "execution_count": 58,
   "metadata": {},
   "outputs": [
    {
     "name": "stdout",
     "output_type": "stream",
     "text": [
      "Other Great Outdoors : 0.10083183640204099\n",
      "Neighborhood : 0.11102760174974402\n"
     ]
    }
   ],
   "source": [
    "# format : {pattern_1 : {venue_category_1 : a%, venue_category_2 : b%...}, pattern_2 : {...}, ...}\n",
    "pattern_venue_distribution = defaultdict(lambda : defaultdict(lambda:0))\n",
    "\n",
    "pattern_venue_matrix = [[0.0] * number_of_venue_categories] * pattern_checkin_matrix.shape[0]\n",
    "pattern_venue_matrix = np.array(pattern_venue_matrix)\n",
    "\n",
    "for i in range(pattern_checkin_matrix.shape[0]):\n",
    "    for j in range(pattern_checkin_matrix.shape[1]):\n",
    "        pattern_venue_distribution[i][index_checkin_mapping[j][0]] += pattern_checkin_matrix[i, j]\n",
    "\n",
    "for i, venues in pattern_venue_distribution.items():\n",
    "    for venue, percentage in venues.items():\n",
    "        j = venue_index_mapping[venue]\n",
    "        pattern_venue_matrix[i, j] = percentage\n",
    "\n",
    "for v, p in pattern_venue_distribution[0].items():\n",
    "    if p > 0.1:\n",
    "        print('{} : {}'.format(v, p))"
   ]
  },
  {
   "cell_type": "markdown",
   "metadata": {},
   "source": [
    "<h2> pattern-hour distribution & pattern-hour matrix"
   ]
  },
  {
   "cell_type": "code",
   "execution_count": 51,
   "metadata": {},
   "outputs": [],
   "source": [
    "# format : {pattern_1 : {hour_1 : a%, hour_2 : b%...}, pattern_2 : {...}, ...}\n",
    "pattern_hour_distribution = defaultdict(lambda : defaultdict(lambda:0))\n",
    "\n",
    "pattern_hour_matrix = [[0.0] * 24] * pattern_checkin_matrix.shape[0]\n",
    "pattern_hour_matrix = np.array(pattern_hour_matrix)\n",
    "\n",
    "for i in range(pattern_checkin_matrix.shape[0]):\n",
    "    for j in range(pattern_checkin_matrix.shape[1]):\n",
    "        pattern_hour_distribution[i][index_checkin_mapping[j][1].split('-')[2]] += pattern_checkin_matrix[i, j]\n",
    "\n",
    "for i, hours in pattern_hour_distribution.items():\n",
    "    for hour, percentage in hours.items():\n",
    "        j = hour_index_mapping[hour]\n",
    "        pattern_hour_matrix[i, j] = percentage"
   ]
  },
  {
   "cell_type": "markdown",
   "metadata": {},
   "source": [
    "<h2> Evaluation of TLDA</h2>"
   ]
  },
  {
   "cell_type": "markdown",
   "metadata": {},
   "source": [
    "__Inputs:__\n",
    "1. top venue categories `V*` for each pattern.\n",
    "2. top time periods (hours) `T*` for each pattern.\n",
    "3. all the check-in activities `SW`."
   ]
  },
  {
   "cell_type": "markdown",
   "metadata": {},
   "source": [
    "__High level:__\n",
    "\n",
    "1. we firstly define a segmentation `S_{one set}` for each __top venue category__ `v*` in each pattern:\n",
    "<img src=\"one_set.png\">\n",
    "\n",
    "We use `S` to denote the set of all segmentations `S_{one set}`, and `|S|` = `Q`.\n",
    "2. For each segmentation `S_{one set}`, we calculate the normalised pointwise mutual information (NPMI) for `v*-T*` vector and `V*-T*` vector, respectively: \n",
    "<img src=\"little_w.png\">\n",
    "\n",
    "where `P (v*, t*_j )` is the probability of the co-occurrence of `v*` and `t*_j`. \n",
    "\n",
    "3. After calculating the NPMI value for each venue category, we aggregate them to obtain the jth element of the time vector of `V∗` by the following equation:\n",
    "<img src=\"big_w.png\">\n",
    "\n",
    "where `v*_i` represents the ith venue category in `V*`.\n",
    "\n",
    "4. Cosine similarity is then calculated between pairs of context vectors `w_q` and `W_q`, and then obtain the final score\n",
    "<img src=\"mq.png\">\n",
    "<img src=\"m.png\">"
   ]
  },
  {
   "cell_type": "markdown",
   "metadata": {},
   "source": [
    "__Pseudocode:__\n",
    "<img src=\"pseudo.png\">"
   ]
  },
  {
   "cell_type": "markdown",
   "metadata": {},
   "source": [
    "<h2> Construct the V* and T* for each pattern </h2>"
   ]
  },
  {
   "cell_type": "code",
   "execution_count": 52,
   "metadata": {},
   "outputs": [],
   "source": [
    "# foramt: {pattern_1 : [index_1, index_2, index_3, index_4, index_5], pattern_2 : [], ...}\n",
    "V_star = defaultdict(list)\n",
    "for i in range(pattern_venue_matrix.shape[0]):\n",
    "    top_five_indices = pattern_venue_matrix[i].argsort()[-5:][::-1]\n",
    "    V_star[i] = top_five_indices\n",
    "\n",
    "T_star = defaultdict(list)\n",
    "for i in range(pattern_hour_matrix.shape[0]):\n",
    "    top_five_indices = pattern_hour_matrix[i].argsort()[-5:][::-1]\n",
    "    T_star[i] = top_five_indices\n"
   ]
  },
  {
   "cell_type": "markdown",
   "metadata": {},
   "source": [
    "<h2> Log based 2 function </h2>"
   ]
  },
  {
   "cell_type": "code",
   "execution_count": 53,
   "metadata": {},
   "outputs": [],
   "source": [
    "def log_2(n):\n",
    "    return (math.log(n)/math.log(2))"
   ]
  },
  {
   "cell_type": "markdown",
   "metadata": {},
   "source": [
    "<h2> Cosine similarity function </h2>"
   ]
  },
  {
   "cell_type": "code",
   "execution_count": 54,
   "metadata": {},
   "outputs": [],
   "source": [
    "def cosine_sim(l1, l2):\n",
    "    return (1 - spatial.distance.cosine(l1, l2))"
   ]
  },
  {
   "cell_type": "markdown",
   "metadata": {},
   "source": [
    "<h2> NPMI Function </h2>"
   ]
  },
  {
   "cell_type": "code",
   "execution_count": 55,
   "metadata": {},
   "outputs": [],
   "source": [
    "#checkin_data : {user1 : [(venue_category_1, time_1), (venue_category_2, time_2), (venue_category_3, time_3...)], \n",
    "#                user2 : [(venue_category_13, time_13), (...) ...] ...}\n",
    "\n",
    "# time format: month-day-hour; Example: (Oct-Wed-13)\n",
    "\n",
    "# index_venue_mapping, index_hour_mapping \n",
    "\n",
    "\n",
    "def NPMI(v : \"index of venue category v\", t : \"index of hour t\", checkin_data, epsilon = 0.001, tau = 2):\n",
    "    v_sum = 0\n",
    "    t_sum = 0\n",
    "    v_t_sum = 0\n",
    "\n",
    "    for u, checkins in checkin_data.items():\n",
    "        for checkin in checkins:\n",
    "            if checkin[0] == index_venue_mapping[v]:\n",
    "                v_sum += 1\n",
    "            if checkin[1].split('-')[2] == index_hour_mapping[t]:\n",
    "                t_sum += 1\n",
    "            if checkin[0] == index_venue_mapping[v] and checkin[1].split('-')[2] == index_hour_mapping[t]:\n",
    "                v_t_sum += 1\n",
    "\n",
    "    p_v = v_sum / number_of_checkins\n",
    "    p_t = t_sum / number_of_checkins\n",
    "    p_v_t = v_t_sum / number_of_checkins\n",
    "\n",
    "    upper = (p_v_t + epsilon)/(p_v * p_t)\n",
    "    lower = p_v_t + epsilon\n",
    "\n",
    "    numerator = log_2(upper)\n",
    "    denominator = -log_2(lower)\n",
    "\n",
    "    result = (numerator / denominator)**tau\n",
    "    \n",
    "    return result"
   ]
  },
  {
   "cell_type": "code",
   "execution_count": 56,
   "metadata": {},
   "outputs": [
    {
     "name": "stdout",
     "output_type": "stream",
     "text": [
      "0.8833109243423494\n"
     ]
    }
   ],
   "source": [
    "S = set()\n",
    "num_of_patterns = pattern_venue_matrix.shape[0]\n",
    "\n",
    "for i in range(num_of_patterns):\n",
    "    for v in V_star[i]:\n",
    "        S_oneset = (v, tuple(V_star[i]), tuple(T_star[i]))\n",
    "        S.add(S_oneset)\n",
    "\n",
    "m = []\n",
    "\n",
    "# S_oneset format: (v*, V*, T*)\n",
    "for S_oneset in S:\n",
    "    T = S_oneset[2]\n",
    "    w = list(i * 0 for i in range(len(T)))\n",
    "    W = list(i * 0 for i in range(len(T)))\n",
    "    for i, t in enumerate(T):\n",
    "        w[i] = NPMI(S_oneset[0], t, checkin_data)\n",
    "        sum = 0\n",
    "        for v in S_oneset[1]:\n",
    "            sum += NPMI(v, t, checkin_data)\n",
    "        W[i] = sum\n",
    "    m.append(cosine_sim(w, W))\n",
    "\n",
    "final_result = np.sum(m) / len(S)\n",
    "print(final_result)"
   ]
  },
  {
   "cell_type": "code",
   "execution_count": null,
   "metadata": {},
   "outputs": [],
   "source": []
  }
 ],
 "metadata": {
  "kernelspec": {
   "display_name": "Python 3",
   "language": "python",
   "name": "python3"
  },
  "language_info": {
   "codemirror_mode": {
    "name": "ipython",
    "version": 3
   },
   "file_extension": ".py",
   "mimetype": "text/x-python",
   "name": "python",
   "nbconvert_exporter": "python",
   "pygments_lexer": "ipython3",
   "version": "3.7.0"
  }
 },
 "nbformat": 4,
 "nbformat_minor": 2
}
