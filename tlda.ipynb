{
 "cells": [
  {
   "cell_type": "markdown",
   "metadata": {},
   "source": [
    "<center><h1>TLDA</h1></center>"
   ]
  },
  {
   "cell_type": "markdown",
   "metadata": {},
   "source": [
    "<img src=\"tlda.png\">"
   ]
  },
  {
   "cell_type": "markdown",
   "metadata": {},
   "source": [
    "1. `theta_u` : pattern distribution of user *u*.\n",
    "2. `phi_t` : pattern distribution of time *t*.\n",
    "3. `psi_z` : venue category distribution of pattern *z*\n",
    "\n",
    "Analogous to the traditional LDA : `document` - `user/time`, `topic` - `cultural pattern`, and `word` - `venue`."
   ]
  },
  {
   "cell_type": "markdown",
   "metadata": {},
   "source": [
    "<h2>Data Extraction</h2>"
   ]
  },
  {
   "cell_type": "code",
   "execution_count": 39,
   "metadata": {},
   "outputs": [],
   "source": [
    "from collections import defaultdict\n",
    "import numpy as np"
   ]
  },
  {
   "cell_type": "code",
   "execution_count": 40,
   "metadata": {},
   "outputs": [],
   "source": [
    "# Month(str): Jan Feb [Mar not included] Apr May Jun Jul Aug Sep Oct Nov Dec\n",
    "# day: Mon, Tue, Wed, Thu, Fri, Sat, Sun\n",
    "# Hour(int): 0, 1, 2, 3, 4, 5, 6, 7, 8, 9, 10, 11, 12, 13, 14, 15, 16, 17, 18, 19, 20, 21, 22, 23\n",
    "\n",
    "\n",
    "# data format: (user1 (venue_category_1, time_1), (venue_category_2, time_2), (venue_category_3, time_3))\n",
    "# time format: month-day-hour; Example: (Oct-Wed-13)\n",
    "checkin_data = defaultdict(list)\n",
    "\n",
    "nyc = open(\"nyc.txt\")\n",
    "\n",
    "for checkin in nyc:\n",
    "    checkin_time = (checkin.split('\\t')[-1]).split(' ')\n",
    "    \n",
    "    # time in the correct format\n",
    "    time = checkin_time[1] + '-' + checkin_time[0] + '-' + checkin_time[3].split(':')[0]\n",
    "    \n",
    "    # corresponding venue category\n",
    "    venue_category = checkin.split('\\t')[3]\n",
    "    \n",
    "    # one checkin tuple of this user\n",
    "    single_checkin = (venue_category, time)\n",
    "\n",
    "    #user id\n",
    "    user = checkin.split('\\t')[0]\n",
    "    \n",
    "    checkin_data[user].append(single_checkin)\n",
    "\n",
    "        \n",
    "\n",
    "days = ['01', '02', '03', '04', '05', '06', '07', '08', '09', '10', '11', '12', '13', '14', '15', '16', '17', \n",
    "        '18', '19', '20', '21', '22', '23', '24', '25', '26', '27', '28', '29', '30', '31']\n"
   ]
  },
  {
   "cell_type": "code",
   "execution_count": 43,
   "metadata": {},
   "outputs": [
    {
     "name": "stdout",
     "output_type": "stream",
     "text": [
      "Number of users: 1083\n"
     ]
    }
   ],
   "source": [
    "print(\"Number of users: {}\".format(len(checkin_data)))"
   ]
  },
  {
   "cell_type": "markdown",
   "metadata": {},
   "source": [
    "<h2> Basic info </h2>\n",
    "There are a total of 1083 users, with id from 1 to 1083."
   ]
  },
  {
   "cell_type": "code",
   "execution_count": null,
   "metadata": {},
   "outputs": [],
   "source": []
  }
 ],
 "metadata": {
  "kernelspec": {
   "display_name": "Python 3",
   "language": "python",
   "name": "python3"
  },
  "language_info": {
   "codemirror_mode": {
    "name": "ipython",
    "version": 3
   },
   "file_extension": ".py",
   "mimetype": "text/x-python",
   "name": "python",
   "nbconvert_exporter": "python",
   "pygments_lexer": "ipython3",
   "version": "3.7.0"
  }
 },
 "nbformat": 4,
 "nbformat_minor": 2
}
