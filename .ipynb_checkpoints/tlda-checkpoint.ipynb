{
 "cells": [
  {
   "cell_type": "markdown",
   "metadata": {},
   "source": [
    "<center><h1>TLDA</h1></center>"
   ]
  },
  {
   "cell_type": "markdown",
   "metadata": {},
   "source": [
    "<img src=\"tlda.png\">"
   ]
  },
  {
   "cell_type": "markdown",
   "metadata": {},
   "source": [
    "1. `theta_u` : pattern distribution of user *u*.\n",
    "2. `phi_t` : pattern distribution of time *t*.\n",
    "3. `psi_z` : venue category distribution of pattern *z*\n",
    "\n",
    "Analogous to the traditional LDA : `document` - `user/time`, `topic` - `cultural pattern`, and `word` - `venue`."
   ]
  },
  {
   "cell_type": "markdown",
   "metadata": {},
   "source": [
    "<h2>Data Extraction</h2>"
   ]
  },
  {
   "cell_type": "code",
   "execution_count": 1,
   "metadata": {},
   "outputs": [],
   "source": [
    "from collections import defaultdict\n",
    "import numpy as np"
   ]
  },
  {
   "cell_type": "code",
   "execution_count": 23,
   "metadata": {},
   "outputs": [
    {
     "name": "stdout",
     "output_type": "stream",
     "text": [
      "defaultdict(<class 'list'>, {'470': [('Arts & Crafts Store', 'Apr-Tue-18')], '979': [('Bridge', 'Apr-Tue-18')], '69': [('Home (private)', 'Apr-Tue-18'), ('Salon / Barbershop', 'Apr-Tue-19')], '395': [('Medical Center', 'Apr-Tue-18')], '87': [('Food Truck', 'Apr-Tue-18'), ('Gastropub', 'Apr-Tue-18')], '484': [('Food & Drink Shop', 'Apr-Tue-18')], '642': [('Coffee Shop', 'Apr-Tue-18'), ('Building', 'Apr-Tue-18')], '292': [('Bus Station', 'Apr-Tue-18'), ('Church', 'Apr-Tue-19')], '428': [('Home (private)', 'Apr-Tue-18')], '877': [('Bank', 'Apr-Tue-18'), ('Bank', 'Apr-Tue-18')], '625': [('Electronics Store', 'Apr-Tue-18')], '691': [('Medical Center', 'Apr-Tue-18')], '116': [('Mobile Phone Shop', 'Apr-Tue-18')], '931': [('Café', 'Apr-Tue-18')], '53': [('Automotive Shop', 'Apr-Tue-18')], '445': [('Food & Drink Shop', 'Apr-Tue-18'), ('Subway', 'Apr-Tue-18'), ('Bus Station', 'Apr-Tue-18'), ('Subway', 'Apr-Tue-19'), ('Home (private)', 'Apr-Tue-19'), ('Drugstore / Pharmacy', 'Apr-Tue-20')], '135': [('Restaurant', 'Apr-Tue-18'), ('Office', 'Apr-Tue-18')], '895': [('Coffee Shop', 'Apr-Tue-18'), ('Other Great Outdoors', 'Apr-Tue-18')], '704': [('American Restaurant', 'Apr-Tue-18')], '891': [('Government Building', 'Apr-Tue-18')], '284': [('Coffee Shop', 'Apr-Tue-18')], '901': [('Airport', 'Apr-Tue-18')], '803': [('Ferry', 'Apr-Tue-18'), ('Office', 'Apr-Tue-18')], '699': [('Office', 'Apr-Tue-18')], '100': [('Other Great Outdoors', 'Apr-Tue-18'), ('General Travel', 'Apr-Tue-20')], '443': [('Office', 'Apr-Tue-18'), ('Office', 'Apr-Tue-19')], '689': [('Food & Drink Shop', 'Apr-Tue-18')], '390': [('Office', 'Apr-Tue-18')], '32': [('Mexican Restaurant', 'Apr-Tue-18')], '230': [('Music Venue', 'Apr-Tue-18')], '834': [('Student Center', 'Apr-Tue-18'), ('Gym / Fitness Center', 'Apr-Tue-20')], '962': [('Park', 'Apr-Tue-18'), ('Burger Joint', 'Apr-Tue-18')], '1032': [('Road', 'Apr-Tue-18'), ('Medical Center', 'Apr-Tue-18')], '525': [('Home (private)', 'Apr-Tue-18'), ('Home (private)', 'Apr-Tue-18')], '318': [('Subway', 'Apr-Tue-18'), ('Subway', 'Apr-Tue-18'), ('University', 'Apr-Tue-18')], '1047': [('Bank', 'Apr-Tue-18'), ('Clothing Store', 'Apr-Tue-18')], '738': [('Office', 'Apr-Tue-18')], '364': [('Sporting Goods Shop', 'Apr-Tue-18')], '398': [('Pizza Place', 'Apr-Tue-18')], '839': [('Jewelry Store', 'Apr-Tue-18'), ('Department Store', 'Apr-Tue-18')], '424': [('Sandwich Place', 'Apr-Tue-18')], '751': [('Coffee Shop', 'Apr-Tue-18'), ('Mexican Restaurant', 'Apr-Tue-19')], '889': [('Neighborhood', 'Apr-Tue-18')], '612': [('Electronics Store', 'Apr-Tue-18'), ('Coffee Shop', 'Apr-Tue-18')], '643': [('Medical Center', 'Apr-Tue-18'), ('Medical Center', 'Apr-Tue-18')], '718': [('Bus Station', 'Apr-Tue-18'), ('Bus Station', 'Apr-Tue-19')], '768': [('Ice Cream Shop', 'Apr-Tue-18'), ('Home (private)', 'Apr-Tue-18')], '15': [('Soup Place', 'Apr-Tue-18')], '458': [('College Academic Building', 'Apr-Tue-18'), ('University', 'Apr-Tue-18')], '280': [('Food & Drink Shop', 'Apr-Tue-18')], '1016': [('Playground', 'Apr-Tue-18'), ('Home (private)', 'Apr-Tue-18')], '281': [('Tattoo Parlor', 'Apr-Tue-18'), ('Spanish Restaurant', 'Apr-Tue-19')], '366': [('Mall', 'Apr-Tue-18')], '276': [('Deli / Bodega', 'Apr-Tue-18')], '227': [('College Academic Building', 'Apr-Tue-18')], '80': [('Diner', 'Apr-Tue-18')], '673': [('Government Building', 'Apr-Tue-18'), ('Automotive Shop', 'Apr-Tue-19')], '337': [('Music Store', 'Apr-Tue-18')], '916': [('Light Rail', 'Apr-Tue-18'), ('Light Rail', 'Apr-Tue-19')], '639': [('Salon / Barbershop', 'Apr-Tue-18')], '752': [('Student Center', 'Apr-Tue-18')], '713': [('Mexican Restaurant', 'Apr-Tue-18'), ('Coffee Shop', 'Apr-Tue-19')], '449': [('General College & University', 'Apr-Tue-18')], '1012': [('Neighborhood', 'Apr-Tue-18'), ('Home (private)', 'Apr-Tue-20')], '749': [('Animal Shelter', 'Apr-Tue-18')], '438': [('Office', 'Apr-Tue-19')], '217': [('Office', 'Apr-Tue-19')], '656': [('College Academic Building', 'Apr-Tue-19')], '225': [('Ice Cream Shop', 'Apr-Tue-19'), ('Sandwich Place', 'Apr-Tue-19'), ('Miscellaneous Shop', 'Apr-Tue-19')], '628': [('Food & Drink Shop', 'Apr-Tue-19')], '504': [('American Restaurant', 'Apr-Tue-19')], '226': [('American Restaurant', 'Apr-Tue-19')], '164': [('Office', 'Apr-Tue-19')], '235': [('Coffee Shop', 'Apr-Tue-19')], '118': [('Laundry Service', 'Apr-Tue-19')], '1054': [('Residential Building (Apartment / Condo)', 'Apr-Tue-19')], '881': [('Building', 'Apr-Tue-19')], '706': [('Food & Drink Shop', 'Apr-Tue-19'), ('Drugstore / Pharmacy', 'Apr-Tue-19'), ('Food & Drink Shop', 'Apr-Tue-19'), ('BBQ Joint', 'Apr-Tue-19')], '143': [('Airport', 'Apr-Tue-19')], '1005': [('Cuban Restaurant', 'Apr-Tue-19')], '912': [('Other Nightlife', 'Apr-Tue-19')], '537': [('Office', 'Apr-Tue-19')], '406': [('Mexican Restaurant', 'Apr-Tue-19')], '868': [('Sandwich Place', 'Apr-Tue-19')], '1055': [('Neighborhood', 'Apr-Tue-19'), ('Food & Drink Shop', 'Apr-Tue-19'), ('Neighborhood', 'Apr-Tue-19')], '907': [('Home (private)', 'Apr-Tue-19')], '303': [('Coffee Shop', 'Apr-Tue-19')], '793': [('Building', 'Apr-Tue-19'), ('College Academic Building', 'Apr-Tue-19')], '784': [('Gym / Fitness Center', 'Apr-Tue-19')], '734': [('Home (private)', 'Apr-Tue-19'), ('Electronics Store', 'Apr-Tue-20')], '540': [('Home (private)', 'Apr-Tue-19')], '816': [('Drugstore / Pharmacy', 'Apr-Tue-19')], '623': [('Office', 'Apr-Tue-19')], '950': [('Other Great Outdoors', 'Apr-Tue-19'), ('Italian Restaurant', 'Apr-Tue-19'), ('Stadium', 'Apr-Tue-19'), ('Office', 'Apr-Tue-19')], '294': [('Coffee Shop', 'Apr-Tue-19')], '615': [('Park', 'Apr-Tue-19'), ('Other Great Outdoors', 'Apr-Tue-19')], '385': [('Gym / Fitness Center', 'Apr-Tue-19')], '173': [('Home (private)', 'Apr-Tue-19')], '801': [('Other Great Outdoors', 'Apr-Tue-19')], '16': [('Airport', 'Apr-Tue-19')], '467': [('Train Station', 'Apr-Tue-19')], '7': [('Food & Drink Shop', 'Apr-Tue-19')], '592': [('Food & Drink Shop', 'Apr-Tue-19'), ('Subway', 'Apr-Tue-20')], '669': [('Department Store', 'Apr-Tue-19')], '574': [('College Academic Building', 'Apr-Tue-19')], '436': [('Tanning Salon', 'Apr-Tue-19')], '636': [('Hotel', 'Apr-Tue-19')], '865': [('University', 'Apr-Tue-19'), ('Diner', 'Apr-Tue-20')], '621': [('Student Center', 'Apr-Tue-19')], '272': [('Bar', 'Apr-Tue-19')], '1063': [('Miscellaneous Shop', 'Apr-Tue-19'), ('Home (private)', 'Apr-Tue-20')], '591': [('Coffee Shop', 'Apr-Tue-19')], '976': [('Other Great Outdoors', 'Apr-Tue-19'), ('Bus Station', 'Apr-Tue-19'), ('Subway', 'Apr-Tue-20'), ('Subway', 'Apr-Tue-20')], '562': [('Other Great Outdoors', 'Apr-Tue-19'), ('Subway', 'Apr-Tue-20'), ('Neighborhood', 'Apr-Tue-20')], '783': [('Gym / Fitness Center', 'Apr-Tue-19')], '319': [('Medical Center', 'Apr-Tue-19')], '468': [('Tattoo Parlor', 'Apr-Tue-19')], '874': [('Road', 'Apr-Tue-19')], '107': [('University', 'Apr-Tue-19')], '667': [('Moving Target', 'Apr-Tue-19')], '557': [('Asian Restaurant', 'Apr-Tue-19')], '725': [('Office', 'Apr-Tue-19')], '774': [('Factory', 'Apr-Tue-19')], '880': [('School', 'Apr-Tue-19')], '288': [('Train Station', 'Apr-Tue-19')], '335': [('Train Station', 'Apr-Tue-19'), ('Other Great Outdoors', 'Apr-Tue-19')], '769': [('Residential Building (Apartment / Condo)', 'Apr-Tue-19')], '194': [('Airport', 'Apr-Tue-20')], '403': [('Hotel', 'Apr-Tue-20')], '573': [('Food & Drink Shop', 'Apr-Tue-20')], '346': [('Asian Restaurant', 'Apr-Tue-20')], '968': [('Medical Center', 'Apr-Tue-20')], '539': [('Residential Building (Apartment / Condo)', 'Apr-Tue-20')], '184': [('Deli / Bodega', 'Apr-Tue-20'), ('Deli / Bodega', 'Apr-Tue-20')], '144': [('Home (private)', 'Apr-Tue-20')], '71': [('Hotel', 'Apr-Tue-20')], '688': [('Gym / Fitness Center', 'Apr-Tue-20')], '65': [('Burrito Place', 'Apr-Tue-20')], '885': [('Coffee Shop', 'Apr-Tue-20'), ('Office', 'Apr-Tue-20')], '267': [('Neighborhood', 'Apr-Tue-20'), ('Mall', 'Apr-Tue-20')]})\n"
     ]
    }
   ],
   "source": [
    "# Month(str): Jan Feb [Mar not included] Apr May Jun Jul Aug Sep Oct Nov Dec\n",
    "# day: Mon, Tue, Wed, Thu, Fri, Sat, Sun\n",
    "# Hour(int): 0, 1, 2, 3, 4, 5, 6, 7, 8, 9, 10, 11, 12, 13, 14, 15, 16, 17, 18, 19, 20, 21, 22, 23\n",
    "\n",
    "# data format: (user1 (venue_category_1, time_1), (venue_category_2, time_2), (venue_category_3, time_3))\n",
    "# time format: month-day-hour; Example: (Oct-Wed-13)\n",
    "\n",
    "\n",
    "checkin_data = defaultdict(list)\n",
    "\n",
    "nyc = open(\"nyc.txt\")\n",
    "\n",
    "i = 0\n",
    "\n",
    "for checkin in nyc:\n",
    "    checkin_time = (checkin.split('\\t')[-1]).split(' ')\n",
    "    # time in the correct format\n",
    "    time = checkin_time[1] + '-' + checkin_time[0] + '-' + checkin_time[3].split(':')[0]\n",
    "    # corresponding venue category\n",
    "    venue_category = checkin.split('\\t')[3]\n",
    "\n",
    "    single_checkin = (venue_category, time)\n",
    "\n",
    "    #user id\n",
    "    user = checkin.split('\\t')[0]\n",
    "    checkin_data[user].append(single_checkin)\n",
    "        i += 1\n",
    "\n",
    "        \n",
    "\n",
    "days = ['01', '02', '03', '04', '05', '06', '07', '08', '09', '10', '11', '12', '13', '14', '15', '16', '17', \n",
    "        '18', '19', '20', '21', '22', '23', '24', '25', '26', '27', '28', '29', '30', '31']\n"
   ]
  },
  {
   "cell_type": "code",
   "execution_count": null,
   "metadata": {},
   "outputs": [],
   "source": []
  }
 ],
 "metadata": {
  "kernelspec": {
   "display_name": "Python 3",
   "language": "python",
   "name": "python3"
  },
  "language_info": {
   "codemirror_mode": {
    "name": "ipython",
    "version": 3
   },
   "file_extension": ".py",
   "mimetype": "text/x-python",
   "name": "python",
   "nbconvert_exporter": "python",
   "pygments_lexer": "ipython3",
   "version": "3.7.0"
  }
 },
 "nbformat": 4,
 "nbformat_minor": 2
}
